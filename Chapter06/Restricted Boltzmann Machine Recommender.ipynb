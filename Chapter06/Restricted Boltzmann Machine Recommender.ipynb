{
 "cells": [
  {
   "cell_type": "code",
   "execution_count": null,
   "metadata": {},
   "outputs": [],
   "source": [
    "# https://heartbeat.fritz.ai/guide-to-restricted-boltzmann-machines-using-pytorch-ee50d1ed21a8\n",
    "import numpy as np\n",
    "import pandas as pd\n",
    "import torch\n",
    "import torch.nn as nn\n",
    "import torch.nn.parallel\n",
    "import torch.optim as optim\n",
    "import torch.utils.data\n",
    "from torch.autograd import Variable"
   ]
  },
  {
   "cell_type": "code",
   "execution_count": 9,
   "metadata": {},
   "outputs": [
    {
     "name": "stdout",
     "output_type": "stream",
     "text": [
      "--2019-08-27 17:50:33--  http://files.grouplens.org/datasets/movielens/ml-latest-small.zip\n",
      "Resolving files.grouplens.org... 128.101.65.152\n",
      "Connecting to files.grouplens.org|128.101.65.152|:80... connected.\n",
      "HTTP request sent, awaiting response... 200 OK\n",
      "Length: 978202 (955K) [application/zip]\n",
      "Saving to: 'ml-latest-small.zip.2'\n",
      "\n",
      "ml-latest-small.zip 100%[=====================>] 955.28K   367KB/s   in 2.6s   \n",
      "\n",
      "2019-08-27 17:50:36 (367 KB/s) - 'ml-latest-small.zip.2' saved [978202/978202]\n",
      "\n",
      "Archive:  ml-latest-small.zip\n",
      "   creating: ./data/ml-latest-small/\n",
      "  inflating: ./data/ml-latest-small/links.csv  \n",
      "  inflating: ./data/ml-latest-small/tags.csv  \n",
      "  inflating: ./data/ml-latest-small/ratings.csv  \n",
      "  inflating: ./data/ml-latest-small/README.txt  \n",
      "  inflating: ./data/ml-latest-small/movies.csv  \n",
      "Archive:  ml-latest-small.zip\n",
      "  inflating: ./data/ml-latest-small/links.csv  \n",
      "  inflating: ./data/ml-latest-small/tags.csv  \n",
      "  inflating: ./data/ml-latest-small/ratings.csv  \n",
      "  inflating: ./data/ml-latest-small/README.txt  \n",
      "  inflating: ./data/ml-latest-small/movies.csv  \n"
     ]
    }
   ],
   "source": [
    "!wget http://files.grouplens.org/datasets/movielens/ml-latest-small.zip\n",
    "!unzip -o ml-latest-small.zip -d ./data\n",
    "!unzip -o ml-latest-small.zip -d ./data"
   ]
  },
  {
   "cell_type": "code",
   "execution_count": 24,
   "metadata": {},
   "outputs": [],
   "source": [
    "movies = pd.read_csv('data/ml-latest-small/movies.csv', sep = ',', header = None, engine = 'python')\n",
    "users = pd.read_csv('data/ml-latest-small/links.csv', sep = ',', header = None, engine = 'python')\n",
    "ratings = pd.read_csv('data/ml-latest-small/ratings.csv', sep = ',', header = None, engine = 'python')"
   ]
  },
  {
   "cell_type": "code",
   "execution_count": 26,
   "metadata": {},
   "outputs": [],
   "source": [
    "training_dataset = pd.read_csv('ml-100k/u1.base', delimiter = '\\t')\n",
    "training_dataset = np.array(training_set, dtype = 'int')\n",
    "test_dataset = pd.read_csv('ml-100k/u1.test', delimiter = '\\t')\n",
    "test_dataset = np.array(test_dataset, dtype = 'int') "
   ]
  },
  {
   "cell_type": "code",
   "execution_count": null,
   "metadata": {},
   "outputs": [],
   "source": [
    "no_users = int(max(max(training_dataset[:,0]), max(test_dataset[:,0])))\n",
    "no_movies = int(max(max(training_dataset[:,1]), max(test_dataset[:,1])))"
   ]
  },
  {
   "cell_type": "code",
   "execution_count": null,
   "metadata": {},
   "outputs": [],
   "source": [
    "def convert_dataset(data):\n",
    "    converted_data = []\n",
    "    for id_users in range(1, no_users + 1):\n",
    "        id_movies = data[:,1][data[:,0] == id_users]\n",
    "        id_ratings = data[:,2][data[:,0] == id_users]\n",
    "        movie_ratings = np.zeros(no_movies)\n",
    "        ratings[id_movies - 1] = id_ratings\n",
    "        converted_data.append(list(movie_ratings))\n",
    "    return converted_data"
   ]
  },
  {
   "cell_type": "code",
   "execution_count": null,
   "metadata": {},
   "outputs": [],
   "source": [
    "training_dataset = convert_dataset(training_dataset)\n",
    "test_dataset = convert_dataset(test_dataset)"
   ]
  },
  {
   "cell_type": "code",
   "execution_count": null,
   "metadata": {},
   "outputs": [],
   "source": [
    "training_dataset = torch.FloatTensor(training_dataset)\n",
    "test_dataset = torch.FloatTensor(test_dataset)"
   ]
  },
  {
   "cell_type": "code",
   "execution_count": null,
   "metadata": {},
   "outputs": [],
   "source": [
    "training_dataset[training_dataset == 0] = -1\n",
    "training_dataset[training_dataset == 1] = 0\n",
    "training_dataset[training_dataset == 2] = 0\n",
    "training_dataset[training_dataset >= 3] = 1\n",
    "test_dataset[test_dataset == 0] = -1\n",
    "test_dataset[test_dataset == 1] = 0\n",
    "test_dataset[test_dataset == 2] = 0\n",
    "test_dataset[test_dataset >= 3] = 1"
   ]
  },
  {
   "cell_type": "code",
   "execution_count": null,
   "metadata": {},
   "outputs": [],
   "source": [
    "class RBM():\n",
    "    def __init__(self, num_visible_nodes, num_hidden_nodes):\n",
    "        self.W = torch.randn(num_hidden_nodes, num_visible_nodes)\n",
    "        self.a = torch.randn(1, num_hidden_nodes)\n",
    "        self.b = torch.randn(1, num_visible_nodes)\n",
    "\n",
    "    def sample_hidden_nodes(self, x):\n",
    "        wx = torch.mm(x, self.W.t())\n",
    "        activation = wx + self.a.expand_as(wx)\n",
    "        p_h_given_v = torch.sigmoid(activation)\n",
    "        return p_h_given_v, torch.bernoulli(p_h_given_v)\n",
    "\n",
    "    def sample_visible_nodes(self, y):\n",
    "        wy = torch.mm(y, self.W)\n",
    "        activation = wy + self.b.expand_as(wy)\n",
    "        p_v_given_h = torch.sigmoid(activation)\n",
    "        return p_v_given_h, torch.bernoulli(p_v_given_h)\n",
    "\n",
    "    def train(self, v0, vk, ph0, phk):\n",
    "        self.W += torch.mm(v0.t(), ph0) - torch.mm(vk.t(), phk)\n",
    "        self.b += torch.sum((v0 - vk), 0)\n",
    "        self.a += torch.sum((ph0 - phk), 0)"
   ]
  },
  {
   "cell_type": "code",
   "execution_count": null,
   "metadata": {},
   "outputs": [],
   "source": [
    "num_visible_nodes = len(training_dataset[0])\n",
    "num_hidden_nodes = 200\n",
    "batch_size = 100\n",
    "rbm = RBM(num_visible_nodes, num_hidden_nodes)"
   ]
  },
  {
   "cell_type": "code",
   "execution_count": null,
   "metadata": {},
   "outputs": [],
   "source": [
    "nb_epoch = 10\n",
    "for epoch in range(1, nb_epoch + 1):\n",
    "    train_loss = 0\n",
    "    s = 0.\n",
    "    for id_user in range(0, nb_users - batch_size, batch_size):\n",
    "        vk = training_dataset[id_user:id_user+batch_size]\n",
    "        v0 = training_dataset[id_user:id_user+batch_size]\n",
    "        ph0,_ = rbm.sample_hidden_nodes(v0)\n",
    "        for k in range(10):\n",
    "            _,hk = rbm.sample_hidden_nodes(vk)\n",
    "            _,vk = rbm.sample_visible_nodes(hk)\n",
    "            vk[v0<0] = v0[v0<0]\n",
    "        phk,_ = rbm.sample_hidden_nodes(vk)\n",
    "        rbm.train(v0, vk, ph0, phk)\n",
    "        train_loss += torch.mean(torch.abs(v0[v0>=0] - vk[v0>=0]))\n",
    "        s += 1.\n",
    "    print('epoch: '+str(epoch)+' loss: '+str(train_loss/s))"
   ]
  },
  {
   "cell_type": "code",
   "execution_count": null,
   "metadata": {},
   "outputs": [],
   "source": [
    "test_loss = 0\n",
    "s = 0.\n",
    "for id_user in range(nb_users):\n",
    "    v = training_dataset[id_user:id_user+1]\n",
    "    vt = test_dataset[id_user:id_user+1]\n",
    "    if len(vt[vt>=0]) > 0:\n",
    "        _,h = rbm.sample_hidden_nodes(v)\n",
    "        _,v = rbm.sample_visible_nodes(h)\n",
    "        test_loss += torch.mean(torch.abs(vt[vt>=0] - v[vt>=0]))\n",
    "        s += 1.\n",
    "print('test loss: '+str(test_loss/s))"
   ]
  },
  {
   "cell_type": "code",
   "execution_count": null,
   "metadata": {},
   "outputs": [],
   "source": []
  },
  {
   "cell_type": "code",
   "execution_count": null,
   "metadata": {},
   "outputs": [],
   "source": []
  }
 ],
 "metadata": {
  "kernelspec": {
   "display_name": "Python 3",
   "language": "python",
   "name": "python3"
  },
  "language_info": {
   "codemirror_mode": {
    "name": "ipython",
    "version": 3
   },
   "file_extension": ".py",
   "mimetype": "text/x-python",
   "name": "python",
   "nbconvert_exporter": "python",
   "pygments_lexer": "ipython3",
   "version": "3.6.8"
  }
 },
 "nbformat": 4,
 "nbformat_minor": 2
}
