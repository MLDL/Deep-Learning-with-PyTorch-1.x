{
 "cells": [
  {
   "cell_type": "code",
   "execution_count": 1,
   "metadata": {},
   "outputs": [],
   "source": [
    "import numpy as np\n",
    "import gym\n",
    "from gym import wrappers"
   ]
  },
  {
   "cell_type": "markdown",
   "metadata": {},
   "source": [
    "Define the functions to run an episode and evaluate, extract and compute the policy."
   ]
  },
  {
   "cell_type": "code",
   "execution_count": 2,
   "metadata": {},
   "outputs": [],
   "source": [
    "def run_episode_return_reward(environment, policy, gamma_value = 1.0, render = False):\n",
    "    \"\"\" Runs an episode and return the total reward \"\"\"\n",
    "    obs = environment.reset()\n",
    "    total_reward = 0\n",
    "    step_index = 0\n",
    "    while True:\n",
    "        if render:\n",
    "            environment.render()\n",
    "        obs, reward, done , _ = environment.step(int(policy[obs]))\n",
    "        total_reward += (gamma_value ** step_index * reward)\n",
    "        step_index += 1\n",
    "        if done:\n",
    "            break\n",
    "    return total_reward\n",
    "\n",
    "def evaluate_policy(environment, policy, gamma_value = 1.0, n = 200):\n",
    "    model_scores = [run_episode_return_reward(environment, policy, gamma_value, False) for _ in range(n)]\n",
    "    return np.mean(model_scores)\n",
    "\n",
    "def extract_policy(v, gamma_value = 1.0):\n",
    "    \"\"\" Extract the policy for a given value-function \"\"\"\n",
    "    policy = np.zeros(environment.nS)\n",
    "    for s in range(environment.nS):\n",
    "        q_sa = np.zeros(environment.nA)\n",
    "        for a in range(environment.nA):\n",
    "            q_sa[a] = sum([p * (r + gamma_value * v[s_]) for p, s_, r, _ in  environment.P[s][a]])\n",
    "        policy[s] = np.argmax(q_sa)\n",
    "    return policy\n",
    "\n",
    "def compute_policy_v(environment, policy, gamma_value=1.0):\n",
    "    \"\"\" Iteratively evaluate the value-function under policy.\n",
    "    Alternatively, we could formulate a set of linear equations in iterms of v[s] \n",
    "    and solve them to find the value function.\n",
    "    \"\"\"\n",
    "    v = np.zeros(environment.nS)\n",
    "    eps = 1e-10\n",
    "    while True:\n",
    "        prev_v = np.copy(v)\n",
    "        for s in range(environment.nS):\n",
    "            policy_a = policy[s]\n",
    "            v[s] = sum([p * (r + gamma_value * prev_v[s_]) for p, s_, r, _ in environment.P[s][policy_a]])\n",
    "        if (np.sum((np.fabs(prev_v - v))) <= eps):\n",
    "            # value converged\n",
    "            break\n",
    "    return v"
   ]
  },
  {
   "cell_type": "markdown",
   "metadata": {},
   "source": [
    "Define a function to perform policy iteration."
   ]
  },
  {
   "cell_type": "code",
   "execution_count": 3,
   "metadata": {},
   "outputs": [],
   "source": [
    "def policy_iteration(environment, gamma_value = 1.0):\n",
    "    \"\"\" Policy-Iteration algorithm \"\"\"\n",
    "    # Initialize a random policy\n",
    "    policy = np.random.choice(environment.nA, size=(environment.nS))  \n",
    "    max_iterations = 100000\n",
    "    gamma_value = 1.0\n",
    "    for i in range(max_iterations):\n",
    "        old_policy_v = compute_policy_v(environment, policy, gamma_value)\n",
    "        new_policy = extract_policy(old_policy_v, gamma_value)\n",
    "        if (np.all(policy == new_policy)):\n",
    "            print ('Policy-Iteration converged at step %d.' %(i+1))\n",
    "            break\n",
    "        policy = new_policy\n",
    "    return policy"
   ]
  },
  {
   "cell_type": "markdown",
   "metadata": {},
   "source": [
    "From here we can run policy iteration on the Frozen Lake environment. "
   ]
  },
  {
   "cell_type": "code",
   "execution_count": 5,
   "metadata": {},
   "outputs": [
    {
     "name": "stdout",
     "output_type": "stream",
     "text": [
      "Policy-Iteration converged at step 5.\n",
      "Average scores =  0.74\n"
     ]
    }
   ],
   "source": [
    "env_name  = 'FrozenLake-v0'\n",
    "environment = gym.make(env_name)\n",
    "optimal_policy = policy_iteration(environment, gamma_value = 1.0)\n",
    "scores = evaluate_policy(environment, optimal_policy, gamma_value = 1.0)\n",
    "print('Average scores = ', np.mean(scores))"
   ]
  },
  {
   "cell_type": "code",
   "execution_count": null,
   "metadata": {},
   "outputs": [],
   "source": []
  },
  {
   "cell_type": "code",
   "execution_count": null,
   "metadata": {},
   "outputs": [],
   "source": []
  }
 ],
 "metadata": {
  "kernelspec": {
   "display_name": "Python 3",
   "language": "python",
   "name": "python3"
  },
  "language_info": {
   "codemirror_mode": {
    "name": "ipython",
    "version": 3
   },
   "file_extension": ".py",
   "mimetype": "text/x-python",
   "name": "python",
   "nbconvert_exporter": "python",
   "pygments_lexer": "ipython3",
   "version": "3.6.8"
  }
 },
 "nbformat": 4,
 "nbformat_minor": 2
}
