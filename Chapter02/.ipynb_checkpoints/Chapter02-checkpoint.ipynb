{
 "cells": [
  {
   "cell_type": "code",
   "execution_count": 12,
   "metadata": {},
   "outputs": [],
   "source": [
    "import torch\n",
    "import torch.nn as nn\n",
    "import torch.nn.functional as F\n",
    "class MyNeuralNet(nn.Module):\n",
    "    def __init__(self, input_size, n_nodes, output_size):\n",
    "        super(MyNeuralNet, self).__init__()\n",
    "        self.operationOne = nn.Linear(input_size, n_nodes)\n",
    "        self.operationTwo = nn.Linear(n_nodes, output_size)\n",
    "    def forward(self, x):\n",
    "        x = F.relu(self.operationOne(x))\n",
    "        x = self.operationTwo(x)\n",
    "        x = F.sigmoid(x)\n",
    "        return x"
   ]
  },
  {
   "cell_type": "code",
   "execution_count": 13,
   "metadata": {},
   "outputs": [],
   "source": [
    "my_network = MyNeuralNet(input_size = 3, n_nodes = 2, output_size = 1)"
   ]
  },
  {
   "cell_type": "markdown",
   "metadata": {},
   "source": [
    "Understanding Tensors"
   ]
  },
  {
   "cell_type": "code",
   "execution_count": 14,
   "metadata": {},
   "outputs": [
    {
     "name": "stdout",
     "output_type": "stream",
     "text": [
      "tensor([1, 2, 3])\n"
     ]
    }
   ],
   "source": [
    "import torch\n",
    "first_order_tensor = torch.tensor([1, 2, 3])\n",
    "print(first_order_tensor)"
   ]
  },
  {
   "cell_type": "code",
   "execution_count": 15,
   "metadata": {},
   "outputs": [
    {
     "name": "stdout",
     "output_type": "stream",
     "text": [
      "tensor(1)\n"
     ]
    }
   ],
   "source": [
    "print(first_order_tensor[0])"
   ]
  },
  {
   "cell_type": "code",
   "execution_count": 16,
   "metadata": {},
   "outputs": [
    {
     "name": "stdout",
     "output_type": "stream",
     "text": [
      "tensor([1, 2])\n"
     ]
    }
   ],
   "source": [
    "print(first_order_tensor[0:2])"
   ]
  },
  {
   "cell_type": "code",
   "execution_count": 17,
   "metadata": {},
   "outputs": [
    {
     "name": "stdout",
     "output_type": "stream",
     "text": [
      "tensor([2, 3])\n"
     ]
    }
   ],
   "source": [
    "print(first_order_tensor[1:])"
   ]
  },
  {
   "cell_type": "code",
   "execution_count": 18,
   "metadata": {},
   "outputs": [
    {
     "name": "stdout",
     "output_type": "stream",
     "text": [
      "tensor([[11, 22, 33],\n",
      "        [21, 22, 23]])\n"
     ]
    }
   ],
   "source": [
    "second_order_tensor = torch.tensor([ [ 11, 22, 33 ],\n",
    " [ 21, 22, 23 ]\n",
    " ])\n",
    "print(second_order_tensor)"
   ]
  },
  {
   "cell_type": "code",
   "execution_count": 20,
   "metadata": {},
   "outputs": [
    {
     "name": "stdout",
     "output_type": "stream",
     "text": [
      "tensor(22)\n"
     ]
    }
   ],
   "source": [
    "print(second_order_tensor[0, 1])"
   ]
  },
  {
   "cell_type": "code",
   "execution_count": 21,
   "metadata": {},
   "outputs": [],
   "source": [
    "fourth_order_tensor = torch.tensor(\n",
    "[\n",
    " [\n",
    " [\n",
    " [1111, 1112],\n",
    " [1121, 1122]\n",
    " ],\n",
    " [\n",
    " [1211, 1212],\n",
    " [1221, 1222]\n",
    " ]\n",
    " ],\n",
    " [\n",
    " [\n",
    " [2111, 2112],\n",
    " [2121, 2122]\n",
    " ],\n",
    " [\n",
    " [2211, 2212],\n",
    " [2221, 2222]\n",
    " ]\n",
    " ]\n",
    "])\n"
   ]
  },
  {
   "cell_type": "code",
   "execution_count": 22,
   "metadata": {},
   "outputs": [
    {
     "name": "stdout",
     "output_type": "stream",
     "text": [
      "torch.Size([5])\n"
     ]
    }
   ],
   "source": [
    "my_tensor = torch.tensor([1, 2, 3, 4, 5])\n",
    "print(my_tensor.size())"
   ]
  },
  {
   "cell_type": "code",
   "execution_count": 23,
   "metadata": {},
   "outputs": [
    {
     "name": "stdout",
     "output_type": "stream",
     "text": [
      "torch.Size([2, 3])\n"
     ]
    }
   ],
   "source": [
    "my_tensor = torch.tensor([[11, 12, 13], [21, 22, 23]])\n",
    "print(my_tensor.size())"
   ]
  },
  {
   "cell_type": "code",
   "execution_count": 24,
   "metadata": {},
   "outputs": [
    {
     "name": "stdout",
     "output_type": "stream",
     "text": [
      "torch.Size([2, 2, 2, 2])\n"
     ]
    }
   ],
   "source": [
    "print(fourth_order_tensor.size())"
   ]
  },
  {
   "cell_type": "code",
   "execution_count": 25,
   "metadata": {},
   "outputs": [
    {
     "name": "stdout",
     "output_type": "stream",
     "text": [
      "tensor([[0.8849, 0.2496],\n",
      "        [0.0906, 0.8850],\n",
      "        [0.3370, 0.4994],\n",
      "        [0.2537, 0.1573]])\n"
     ]
    }
   ],
   "source": [
    "random_tensor = torch.rand([4, 2])\n",
    "print(random_tensor)"
   ]
  },
  {
   "cell_type": "code",
   "execution_count": 26,
   "metadata": {},
   "outputs": [
    {
     "data": {
      "text/plain": [
       "tensor([[0.8849, 0.2496, 0.0906, 0.8850],\n",
       "        [0.3370, 0.4994, 0.2537, 0.1573]])"
      ]
     },
     "execution_count": 26,
     "metadata": {},
     "output_type": "execute_result"
    }
   ],
   "source": [
    "random_tensor.view([2, 4])"
   ]
  },
  {
   "cell_type": "code",
   "execution_count": 27,
   "metadata": {},
   "outputs": [
    {
     "data": {
      "text/plain": [
       "tensor([[[0.0420, 0.2747, 0.9238, 0.6606],\n",
       "         [0.8135, 0.1987, 0.3658, 0.7605],\n",
       "         [0.1217, 0.5256, 0.4733, 0.1900],\n",
       "         [0.7616, 0.0601, 0.1716, 0.6475]],\n",
       "\n",
       "        [[0.4079, 0.0604, 0.9344, 0.1486],\n",
       "         [0.8861, 0.7199, 0.5216, 0.0384],\n",
       "         [0.9297, 0.8486, 0.2294, 0.3931],\n",
       "         [0.7904, 0.9229, 0.3076, 0.5926]]])"
      ]
     },
     "execution_count": 27,
     "metadata": {},
     "output_type": "execute_result"
    }
   ],
   "source": [
    "random_tensor = torch.rand([4, 2, 4])\n",
    "random_tensor.view([2, 4, -1])"
   ]
  },
  {
   "cell_type": "code",
   "execution_count": 28,
   "metadata": {},
   "outputs": [
    {
     "data": {
      "text/plain": [
       "tensor([[[0.0420, 0.2747, 0.9238, 0.6606],\n",
       "         [0.8135, 0.1987, 0.3658, 0.7605],\n",
       "         [0.1217, 0.5256, 0.4733, 0.1900],\n",
       "         [0.7616, 0.0601, 0.1716, 0.6475]],\n",
       "\n",
       "        [[0.4079, 0.0604, 0.9344, 0.1486],\n",
       "         [0.8861, 0.7199, 0.5216, 0.0384],\n",
       "         [0.9297, 0.8486, 0.2294, 0.3931],\n",
       "         [0.7904, 0.9229, 0.3076, 0.5926]]])"
      ]
     },
     "execution_count": 28,
     "metadata": {},
     "output_type": "execute_result"
    }
   ],
   "source": [
    "random_tensor.view([2, -1, 4])"
   ]
  },
  {
   "cell_type": "code",
   "execution_count": 29,
   "metadata": {},
   "outputs": [
    {
     "data": {
      "text/plain": [
       "tensor([8, 5])"
      ]
     },
     "execution_count": 29,
     "metadata": {},
     "output_type": "execute_result"
    }
   ],
   "source": [
    "x = torch.tensor([5, 3])\n",
    "y = torch.tensor([3, 2])\n",
    "torch.add(x, y)"
   ]
  },
  {
   "cell_type": "code",
   "execution_count": 30,
   "metadata": {},
   "outputs": [
    {
     "data": {
      "text/plain": [
       "tensor([2, 1])"
      ]
     },
     "execution_count": 30,
     "metadata": {},
     "output_type": "execute_result"
    }
   ],
   "source": [
    "torch.sub(x, y)"
   ]
  },
  {
   "cell_type": "code",
   "execution_count": 32,
   "metadata": {},
   "outputs": [
    {
     "data": {
      "text/plain": [
       "tensor([15,  6])"
      ]
     },
     "execution_count": 32,
     "metadata": {},
     "output_type": "execute_result"
    }
   ],
   "source": [
    "torch.mul(x, y)"
   ]
  },
  {
   "cell_type": "code",
   "execution_count": 34,
   "metadata": {},
   "outputs": [
    {
     "data": {
      "text/plain": [
       "tensor([8, 5])"
      ]
     },
     "execution_count": 34,
     "metadata": {},
     "output_type": "execute_result"
    }
   ],
   "source": [
    "x + y"
   ]
  },
  {
   "cell_type": "code",
   "execution_count": 35,
   "metadata": {},
   "outputs": [
    {
     "data": {
      "text/plain": [
       "tensor([1, 1])"
      ]
     },
     "execution_count": 35,
     "metadata": {},
     "output_type": "execute_result"
    }
   ],
   "source": [
    "torch.div(x, y)"
   ]
  },
  {
   "cell_type": "code",
   "execution_count": 36,
   "metadata": {},
   "outputs": [
    {
     "data": {
      "text/plain": [
       "torch.int64"
      ]
     },
     "execution_count": 36,
     "metadata": {},
     "output_type": "execute_result"
    }
   ],
   "source": [
    "x.dtype"
   ]
  },
  {
   "cell_type": "code",
   "execution_count": 37,
   "metadata": {},
   "outputs": [
    {
     "data": {
      "text/plain": [
       "torch.int64"
      ]
     },
     "execution_count": 37,
     "metadata": {},
     "output_type": "execute_result"
    }
   ],
   "source": [
    "y.dtype"
   ]
  },
  {
   "cell_type": "code",
   "execution_count": 38,
   "metadata": {},
   "outputs": [
    {
     "name": "stdout",
     "output_type": "stream",
     "text": [
      "tensor([1.6667, 1.5000])\n"
     ]
    }
   ],
   "source": [
    "x_float = torch.tensor([5, 3], dtype = torch.float32)\n",
    "y_float = torch.tensor([3, 2], dtype = torch.float32)\n",
    "print(x_float / y_float)"
   ]
  },
  {
   "cell_type": "code",
   "execution_count": 39,
   "metadata": {},
   "outputs": [
    {
     "data": {
      "text/plain": [
       "tensor([5., 3.])"
      ]
     },
     "execution_count": 39,
     "metadata": {},
     "output_type": "execute_result"
    }
   ],
   "source": [
    "torch.FloatTensor([5, 3])"
   ]
  },
  {
   "cell_type": "code",
   "execution_count": 40,
   "metadata": {},
   "outputs": [
    {
     "data": {
      "text/plain": [
       "tensor([5., 3.], dtype=torch.float64)"
      ]
     },
     "execution_count": 40,
     "metadata": {},
     "output_type": "execute_result"
    }
   ],
   "source": [
    "x.type(torch.DoubleTensor)"
   ]
  },
  {
   "cell_type": "markdown",
   "metadata": {},
   "source": []
  }
 ],
 "metadata": {
  "kernelspec": {
   "display_name": "Python 3",
   "language": "python",
   "name": "python3"
  },
  "language_info": {
   "codemirror_mode": {
    "name": "ipython",
    "version": 3
   },
   "file_extension": ".py",
   "mimetype": "text/x-python",
   "name": "python",
   "nbconvert_exporter": "python",
   "pygments_lexer": "ipython3",
   "version": "3.7.3"
  }
 },
 "nbformat": 4,
 "nbformat_minor": 2
}
